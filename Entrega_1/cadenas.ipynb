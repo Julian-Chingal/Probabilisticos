{
 "cells": [
  {
   "cell_type": "code",
   "execution_count": 29,
   "metadata": {},
   "outputs": [],
   "source": [
    "#libraries\n",
    "import numpy as np\n",
    "import matplotlib.pyplot as plt\n",
    "import math "
   ]
  },
  {
   "cell_type": "code",
   "execution_count": 30,
   "metadata": {},
   "outputs": [],
   "source": [
    "#input variables\n",
    "N = int(input(\"Numero de usuarios: \"))\n",
    "proConnect =  float(input(\"Probabilidad que se conecte un usuario: \"))\n",
    "proDisconnect =  float(input(\"Probabilidad que se desconecte un usuario: \"))"
   ]
  },
  {
   "cell_type": "code",
   "execution_count": 31,
   "metadata": {},
   "outputs": [],
   "source": [
    "#variables\n",
    "P = np.zeros((N+1,N+1)) #matriz de probabilidad"
   ]
  },
  {
   "cell_type": "code",
   "execution_count": 32,
   "metadata": {},
   "outputs": [],
   "source": [
    "#functions\n",
    "def combinatoria(n,x):\n",
    "    if x > n or x < 0:\n",
    "        return 0\n",
    "    else:\n",
    "        c = math.factorial(n)/ (math.factorial(x) * math.factorial(n-x ))\n",
    "        return c\n",
    "\n",
    "def binomial(n,x,p):\n",
    "    return combinatoria(n,x) *  (p ** x) * ((1 - p)**(n - x))"
   ]
  },
  {
   "cell_type": "markdown",
   "metadata": {},
   "source": [
    "# DATOS\n",
    "- i: hace referencia a la cantidad de usuarios conectados en ese momento\n",
    "- conn hace referencia al numero de usuarios que se pueden conectar\n",
    "- nconn: numero de usuarios disponibles para conectar\n",
    "- xconn: usuarios a conectar\n",
    "- disc hace referencia al numero de usuarios que se pueden desconectar\n",
    "- ndisc: numero de usuarios disponibles para desconectar\n",
    "- xdisc: usuarios a desconectar\n",
    "- n numero de usuarios que usan el ordenador"
   ]
  },
  {
   "cell_type": "code",
   "execution_count": 33,
   "metadata": {},
   "outputs": [],
   "source": [
    "#code\n",
    "for i in range(N+1):\n",
    "    for j in range(N+1):\n",
    "        #si no hay ningun usuario conectado, probabilidad que se conecten usuarios\n",
    "        if i == 0:\n",
    "            conn = j\n",
    "            P[i][j] = binomial(N, conn, proConnect)\n",
    "\n",
    "        #si todos los usuarios estan conectados probabilidad de desconectar usuarios\n",
    "        elif i == N: \n",
    "            disc = i - j \n",
    "            P[i][j] = binomial(N, disc, proDisconnect)\n",
    "        \n",
    "        #si el usuario actual se desconecta entra Y uno nuevo o no hay ningun cambio\n",
    "        elif i <= j:\n",
    "            nconn = N - i\n",
    "            ndisc = i\n",
    "            xconn = j - i\n",
    "            xdisc = 0\n",
    "            probabilidad = 0\n",
    "            \n",
    "            while xconn <= nconn and xdisc <= ndisc:\n",
    "                probabilidad += (binomial(nconn, xconn, proConnect)) * (binomial(ndisc, xdisc, proDisconnect))\n",
    "                xconn += 1\n",
    "                xdisc += 1\n",
    "            \n",
    "            P[i][j] = probabilidad\n",
    "        \n",
    "        #conectan y desconectan usuarios\n",
    "        else:\n",
    "            nconn = N - i\n",
    "            ndisc = i\n",
    "            xdisc = i - j\n",
    "            xconn = 0\n",
    "            probabilidad = 0\n",
    "\n",
    "            while xconn <= nconn and xdisc <= ndisc:\n",
    "                probabilidad += (binomial(nconn, xconn, proConnect)) * (binomial(ndisc, xdisc, proDisconnect))\n",
    "                xconn += 1\n",
    "                xdisc += 1\n",
    "            \n",
    "            P[i][j] = probabilidad\n"
   ]
  },
  {
   "cell_type": "code",
   "execution_count": 34,
   "metadata": {},
   "outputs": [
    {
     "name": "stdout",
     "output_type": "stream",
     "text": [
      " Numero Usuarios:  10 \n",
      " Probabilidad de conexion:  0.4 \n",
      " Probabilidad de desconexion:  0.3\n"
     ]
    },
    {
     "data": {
      "image/png": "[encoded data removed]",
      "text/plain": [
       "<Figure size 640x480 with 2 Axes>"
      ]
     },
     "metadata": {},
     "output_type": "display_data"
    },
    {
     "name": "stdout",
     "output_type": "stream",
     "text": [
      "Verificacion Sumatoria Filas\n",
      "\n",
      "fila 0:  1.0\n",
      "fila 1:  1.0\n",
      "fila 2:  1.0\n",
      "fila 3:  0.9999999999999999\n",
      "fila 4:  1.0000000000000002\n",
      "fila 5:  0.9999999999999998\n",
      "fila 6:  0.9999999999999997\n",
      "fila 7:  0.9999999999999998\n",
      "fila 8:  0.9999999999999996\n",
      "fila 9:  0.9999999999999994\n",
      "fila 10:  0.9999999999999994\n",
      "\n",
      " Matriz de Probabilidad \n",
      "\n",
      " [[6.04661760e-03 4.03107840e-02 1.20932352e-01 2.14990848e-01\n",
      "  2.50822656e-01 2.00658125e-01 1.11476736e-01 4.24673280e-02\n",
      "  1.06168320e-02 1.57286400e-03 1.04857600e-04]\n",
      " [3.02330880e-03 2.51942400e-02 9.06992640e-02 1.88116992e-01\n",
      "  2.50822656e-01 2.25740390e-01 1.39345920e-01 5.83925760e-02\n",
      "  1.59252480e-02 2.55590400e-03 1.83500800e-04]\n",
      " [1.51165440e-03 1.51165440e-02 6.46652160e-02 1.56764160e-01\n",
      "  2.40371712e-01 2.45248819e-01 1.69537536e-01 7.87415040e-02\n",
      "  2.35929600e-02 4.12876800e-03 3.21126400e-04]\n",
      " [7.55827200e-04 8.81798400e-03 4.40899200e-02 1.24431552e-01\n",
      "  2.20123008e-01 2.56309402e-01 2.00019456e-01 1.03818240e-01\n",
      "  3.44494080e-02 6.62323200e-03 5.61971200e-04]\n",
      " [3.77913600e-04 5.03884800e-03 2.89733760e-02 9.43384320e-02\n",
      "  1.92339360e-01 2.56738637e-01 2.27878272e-01 1.33346304e-01\n",
      "  4.94484480e-02 1.05369600e-02 9.83449600e-04]\n",
      " [1.88956800e-04 2.83435200e-03 1.84757760e-02 6.86543040e-02\n",
      "  1.60461648e-01 2.45790806e-01 2.49607008e-01 1.66126464e-01\n",
      "  6.95439360e-02 1.65957120e-02 1.72103680e-03]\n",
      " [9.44784000e-05 1.57464000e-03 1.14948720e-02 4.82189760e-02\n",
      "  1.28181528e-01 2.24646307e-01 2.61795240e-01 1.99741248e-01\n",
      "  9.54253440e-02 2.58155520e-02 3.01181440e-03]\n",
      " [4.72392000e-05 8.66052000e-04 7.00714800e-03 3.28487400e-02\n",
      "  9.84470760e-02 1.96236886e-01 2.62160388e-01 2.30524812e-01\n",
      "  1.27060920e-01 3.95300640e-02 5.27067520e-03]\n",
      " [2.36196000e-05 4.72392000e-04 4.19904000e-03 2.18000160e-02\n",
      "  7.30137240e-02 1.64297549e-01 2.50491528e-01 2.54121840e-01\n",
      "  1.63061514e-01 5.92950960e-02 9.22368160e-03]\n",
      " [1.18098000e-05 2.55879000e-04 2.48005800e-03 1.41455160e-02\n",
      "  5.25098700e-02 1.32324872e-01 2.28709656e-01 2.66827932e-01\n",
      "  2.00120949e-01 8.64720150e-02 1.61414428e-02]\n",
      " [5.90490000e-06 1.37781000e-04 1.44670050e-03 9.00169200e-03\n",
      "  3.67569090e-02 1.02919345e-01 2.00120949e-01 2.66827932e-01\n",
      "  2.33474440e-01 1.21060821e-01 2.82475249e-02]]\n"
     ]
    }
   ],
   "source": [
    "#info\n",
    "print(\" Numero Usuarios: \", N, \"\\n\",\n",
    "    \"Probabilidad de conexion: \", proConnect, \"\\n\",  \n",
    "    \"Probabilidad de desconexion: \", proDisconnect)\n",
    "\n",
    "\n",
    "\n",
    "#graphics\n",
    "x , y = P.shape\n",
    "\n",
    "plt.imshow(P, cmap='Greens')    \n",
    "plt.colorbar()\n",
    "plt.xlabel('Columnas')\n",
    "plt.xticks(range(x))\n",
    "plt.ylabel('Filas')\n",
    "plt.yticks(range(y))\n",
    "plt.title(\"Matriz de Probabilidad\")\n",
    "plt.show()\n",
    "\n",
    "#show sum in row\n",
    "print(\"Verificacion Sumatoria Filas\\n\")\n",
    "for i in range(N+1):\n",
    "    suma = np.sum(P[i])\n",
    "    print(f'fila {i}: ', suma)\n",
    "    i += 1\n",
    "\n",
    "#show matrix\n",
    "print(\"\\n Matriz de Probabilidad \\n\\n\", P)"
   ]
  }
 ],
 "metadata": {
  "kernelspec": {
   "display_name": "Python 3",
   "language": "python",
   "name": "python3"
  },
  "language_info": {
   "codemirror_mode": {
    "name": "ipython",
    "version": 3
   },
   "file_extension": ".py",
   "mimetype": "text/x-python",
   "name": "python",
   "nbconvert_exporter": "python",
   "pygments_lexer": "ipython3",
   "version": "3.11.4"
  },
  "orig_nbformat": 4
 },
 "nbformat": 4,
 "nbformat_minor": 2
}
