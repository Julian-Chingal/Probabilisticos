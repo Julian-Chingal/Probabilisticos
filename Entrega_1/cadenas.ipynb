{
 "cells": [
  {
   "cell_type": "code",
   "execution_count": 16,
   "metadata": {},
   "outputs": [],
   "source": [
    "#libraries\n",
    "import numpy as np\n",
    "import matplotlib.pyplot as plt\n",
    "import math "
   ]
  },
  {
   "cell_type": "code",
   "execution_count": 43,
   "metadata": {},
   "outputs": [],
   "source": [
    "#input variables\n",
    "n = int(input(\"Numero de usuarios: \"))\n",
    "proConnect =  float(input(\"Probabilidad que se conecte un usuario: \"))\n",
    "proDisconnect =  float(input(\"Probabilidad que se desconecte un usuario: \"))"
   ]
  },
  {
   "cell_type": "code",
   "execution_count": 44,
   "metadata": {},
   "outputs": [],
   "source": [
    "#variables\n",
    "A = np.zeros((n,n)) #matriz de probabilidad"
   ]
  },
  {
   "cell_type": "code",
   "execution_count": 45,
   "metadata": {},
   "outputs": [],
   "source": [
    "#functions\n",
    "def combinatoria(n,x):\n",
    "    if x > n or x < 0:\n",
    "        return 0\n",
    "    else:\n",
    "        c = math.factorial(n)/ (math.factorial(x) * math.factorial(n-x ))\n",
    "        return c\n",
    " "
   ]
  },
  {
   "cell_type": "markdown",
   "metadata": {},
   "source": [
    "i hace referencia a la cantidad de usuarios conectados en ese momento\n",
    "conn hace referencia al numero de usuarios que se pueden conectar\n",
    "disc hace referencia al numero de usuarios que se pueden desconectar\n",
    "n numero de usuarios que usan el ordenador"
   ]
  },
  {
   "cell_type": "code",
   "execution_count": 60,
   "metadata": {},
   "outputs": [],
   "source": [
    "#code\n",
    "for i in range(n):\n",
    "    for j in range(n):\n",
    "        #si no hay ningun usuario conectado probabilidad que se conecten usuarios\n",
    "        if i == 0:\n",
    "            conn = j\n",
    "            A[i][j] = combinatoria(n,conn) * (proConnect ** conn) * ((1 - proConnect)**(n - conn))  \n",
    "\n",
    "        #si todos los usuarios estan conectados probabilidad de desconectar usuarios\n",
    "        elif i == n: \n",
    "            disc = i - j \n",
    "            A[i][j] = combinatoria(n, disc) * (proDisconnect ** disc) * ((1 - proDisconnect)**(n-disc)) \n",
    "        \n",
    "        #si el usuario actual se desconecta entra  uno nuevo o no hay ningun cambio\n",
    "        \n",
    "        \n",
    "        #no se desconecta ningun usuario y se conecta uno nuevo\n",
    "        else:\n",
    "            con = 1\n",
    "\n",
    "        "
   ]
  },
  {
   "cell_type": "code",
   "execution_count": 62,
   "metadata": {},
   "outputs": [
    {
     "name": "stdout",
     "output_type": "stream",
     "text": [
      "10  **  0.5  **  0.2\n",
      "35.0\n",
      "0.9990234375\n",
      "[[0.00097656 0.00976562 0.04394531 0.1171875  0.20507812 0.24609375\n",
      "  0.20507812 0.1171875  0.04394531 0.00976562]\n",
      " [0.00097656 0.00976562 0.04394531 0.1171875  0.20507812 0.24609375\n",
      "  0.20507812 0.1171875  0.04394531 0.00976562]\n",
      " [0.00097656 0.00976562 0.04394531 0.1171875  0.20507812 0.24609375\n",
      "  0.20507812 0.1171875  0.04394531 0.00976562]\n",
      " [0.00097656 0.00976562 0.04394531 0.1171875  0.20507812 0.24609375\n",
      "  0.20507812 0.1171875  0.04394531 0.00976562]\n",
      " [0.00097656 0.00976562 0.04394531 0.1171875  0.20507812 0.24609375\n",
      "  0.20507812 0.1171875  0.04394531 0.00976562]\n",
      " [0.00097656 0.00976562 0.04394531 0.1171875  0.20507812 0.24609375\n",
      "  0.20507812 0.1171875  0.04394531 0.00976562]\n",
      " [0.00097656 0.00976562 0.04394531 0.1171875  0.20507812 0.24609375\n",
      "  0.20507812 0.1171875  0.04394531 0.00976562]\n",
      " [0.00097656 0.00976562 0.04394531 0.1171875  0.20507812 0.24609375\n",
      "  0.20507812 0.1171875  0.04394531 0.00976562]\n",
      " [0.00097656 0.00976562 0.04394531 0.1171875  0.20507812 0.24609375\n",
      "  0.20507812 0.1171875  0.04394531 0.00976562]\n",
      " [0.00097656 0.00976562 0.04394531 0.1171875  0.20507812 0.24609375\n",
      "  0.20507812 0.1171875  0.04394531 0.00976562]]\n"
     ]
    }
   ],
   "source": [
    "#graphics\n",
    "com = combinatoria(7,4)\n",
    "print(n , \" ** \",proConnect, \" ** \",proDisconnect)\n",
    "print(com)\n",
    "\n",
    "suma = 0\n",
    "\n",
    "for j in range(n):\n",
    "    suma += A[0][j]\n",
    "    \n",
    "print(suma)\n",
    "print(A)"
   ]
  }
 ],
 "metadata": {
  "kernelspec": {
   "display_name": "Python 3",
   "language": "python",
   "name": "python3"
  },
  "language_info": {
   "codemirror_mode": {
    "name": "ipython",
    "version": 3
   },
   "file_extension": ".py",
   "mimetype": "text/x-python",
   "name": "python",
   "nbconvert_exporter": "python",
   "pygments_lexer": "ipython3",
   "version": "3.11.4"
  },
  "orig_nbformat": 4
 },
 "nbformat": 4,
 "nbformat_minor": 2
}
