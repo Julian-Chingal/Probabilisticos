{
 "cells": [
  {
   "cell_type": "code",
   "execution_count": 38,
   "metadata": {},
   "outputs": [],
   "source": [
    "#libraries\n",
    "import numpy as np\n",
    "import matplotlib.pyplot as plt\n",
    "import math "
   ]
  },
  {
   "cell_type": "code",
   "execution_count": 39,
   "metadata": {},
   "outputs": [],
   "source": [
    "#input variables\n",
    "N = int(input(\"Numero de usuarios: \"))\n",
    "proConnect =  float(input(\"Probabilidad que se conecte un usuario: \"))\n",
    "proDisconnect =  float(input(\"Probabilidad que se desconecte un usuario: \"))"
   ]
  },
  {
   "cell_type": "code",
   "execution_count": 40,
   "metadata": {},
   "outputs": [],
   "source": [
    "#variables\n",
    "P = np.zeros((N+1,N+1)) #matriz de probabilidad\n",
    "expor_matriz = 'matriz_probabilidad.txt'"
   ]
  },
  {
   "cell_type": "code",
   "execution_count": 41,
   "metadata": {},
   "outputs": [],
   "source": [
    "#functions\n",
    "def combinatoria(n,x):\n",
    "    if x > n or x < 0:\n",
    "        return 0\n",
    "    else:\n",
    "        c = math.factorial(n)/ (math.factorial(x) * math.factorial(n-x ))\n",
    "        return c\n",
    "\n",
    "def binomial(n,x,p):\n",
    "    return combinatoria(n,x) *  (p ** x) * ((1 - p)**(n - x))"
   ]
  },
  {
   "cell_type": "markdown",
   "metadata": {},
   "source": [
    "# DATOS\n",
    "- i: hace referencia a la cantidad de usuarios conectados en ese momento\n",
    "- conn hace referencia al numero de usuarios que se pueden conectar\n",
    "- nconn: numero de usuarios disponibles para conectar\n",
    "- xconn: usuarios a conectar\n",
    "- disc hace referencia al numero de usuarios que se pueden desconectar\n",
    "- ndisc: numero de usuarios disponibles para desconectar\n",
    "- xdisc: usuarios a desconectar\n",
    "- n numero de usuarios que usan el ordenador"
   ]
  },
  {
   "cell_type": "code",
   "execution_count": 42,
   "metadata": {},
   "outputs": [],
   "source": [
    "#code\n",
    "for i in range(N+1):\n",
    "    for j in range(N+1):\n",
    "        #si no hay ningun usuario conectado, probabilidad que se conecten usuarios\n",
    "        if i == 0:\n",
    "            conn = j\n",
    "            P[i][j] = binomial(N, conn, proConnect)\n",
    "\n",
    "        #si todos los usuarios estan conectados probabilidad de desconectar usuarios\n",
    "        elif i == N: \n",
    "            disc = i - j \n",
    "            P[i][j] = binomial(N, disc, proDisconnect)\n",
    "        \n",
    "        #si el usuario actual se desconecta entra Y uno nuevo o no hay ningun cambio\n",
    "        elif i <= j:\n",
    "            nconn = N - i\n",
    "            ndisc = i\n",
    "            xconn = j - i\n",
    "            xdisc = 0\n",
    "            probabilidad = 0\n",
    "            \n",
    "            while xconn <= nconn and xdisc <= ndisc:\n",
    "                probabilidad += (binomial(nconn, xconn, proConnect)) * (binomial(ndisc, xdisc, proDisconnect))\n",
    "                xconn += 1\n",
    "                xdisc += 1\n",
    "            \n",
    "            P[i][j] = probabilidad\n",
    "        \n",
    "        #conectan y desconectan usuarios\n",
    "        else:\n",
    "            nconn = N - i\n",
    "            ndisc = i\n",
    "            xdisc = i - j\n",
    "            xconn = 0\n",
    "            probabilidad = 0\n",
    "\n",
    "            while xconn <= nconn and xdisc <= ndisc:\n",
    "                probabilidad += (binomial(nconn, xconn, proConnect)) * (binomial(ndisc, xdisc, proDisconnect))\n",
    "                xconn += 1\n",
    "                xdisc += 1\n",
    "            \n",
    "            P[i][j] = probabilidad\n"
   ]
  },
  {
   "cell_type": "code",
   "execution_count": 52,
   "metadata": {},
   "outputs": [
    {
     "name": "stdout",
     "output_type": "stream",
     "text": [
      " Numero Usuarios:  3 \n",
      " Probabilidad de conexion:  0.4 \n",
      " Probabilidad de desconexion:  0.3\n"
     ]
    },
    {
     "data": {
      "image/png": "[encoded data removed]",
      "text/plain": [
       "<Figure size 640x480 with 2 Axes>"
      ]
     },
     "metadata": {},
     "output_type": "display_data"
    },
    {
     "name": "stdout",
     "output_type": "stream",
     "text": [
      "Verificacion Sumatoria Filas\n",
      "\n",
      "fila 0:  1.0\n",
      "fila 1:  0.9999999999999999\n",
      "fila 2:  0.9999999999999999\n",
      "fila 3:  0.9999999999999998\n",
      "\n",
      " Matriz de Probabilidad \n",
      "\n",
      " [[0.216 0.432 0.288 0.064]\n",
      " [0.108 0.396 0.384 0.112]\n",
      " [0.054 0.288 0.462 0.196]\n",
      " [0.027 0.189 0.441 0.343]] \n",
      "\n",
      "Matriz guardada en matriz_probabilidad.txt\n"
     ]
    }
   ],
   "source": [
    "#info\n",
    "print(\" Numero Usuarios: \", N, \"\\n\",\n",
    "    \"Probabilidad de conexion: \", proConnect, \"\\n\",  \n",
    "    \"Probabilidad de desconexion: \", proDisconnect)\n",
    "\n",
    "#graphics\n",
    "x , y = P.shape\n",
    "\n",
    "plt.imshow(P, cmap='Greens')    \n",
    "plt.colorbar()\n",
    "plt.xlabel('Columnas')\n",
    "plt.xticks(range(x))\n",
    "plt.ylabel('Filas')\n",
    "plt.yticks(range(y))\n",
    "plt.title(\"Matriz de Probabilidad\")\n",
    "plt.show()\n",
    "\n",
    "#show sum in row\n",
    "print(\"Verificacion Sumatoria Filas\\n\")\n",
    "for i in range(N+1):\n",
    "    suma = np.sum(P[i])\n",
    "    print(f'fila {i}: ', suma)\n",
    "    i += 1\n",
    "\n",
    "#show matrix\n",
    "print(\"\\n Matriz de Probabilidad \\n\\n\", P , \"\\n\")\n",
    "\n",
    "x, y = P.shape\n",
    "\n",
    "with open(expor_matriz, 'w') as file:\n",
    "    # Agregar el título\n",
    "    file.write('Matriz de Probabilidad\\n----------------------- \\n')\n",
    "    \n",
    "    for i, row in enumerate(P):\n",
    "        # Formatea cada fila como una cadena de números separados por tabulaciones\n",
    "        row_str = '\\t'.join([f'{value:.6f}' for value in row])\n",
    "        \n",
    "        # Agregar el número de fila antes de la fila formateada\n",
    "        file.write(f'{i + 1}\\t{row_str}\\n')\n",
    "\n",
    "print(f\"Matriz guardada en {expor_matriz}\")"
   ]
  }
 ],
 "metadata": {
  "kernelspec": {
   "display_name": "Python 3",
   "language": "python",
   "name": "python3"
  },
  "language_info": {
   "codemirror_mode": {
    "name": "ipython",
    "version": 3
   },
   "file_extension": ".py",
   "mimetype": "text/x-python",
   "name": "python",
   "nbconvert_exporter": "python",
   "pygments_lexer": "ipython3",
   "version": "3.11.4"
  },
  "orig_nbformat": 4
 },
 "nbformat": 4,
 "nbformat_minor": 2
}
