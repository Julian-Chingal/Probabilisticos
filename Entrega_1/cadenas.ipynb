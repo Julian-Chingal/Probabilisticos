{
 "cells": [
  {
   "cell_type": "code",
   "execution_count": 1,
   "metadata": {},
   "outputs": [],
   "source": [
    "#libraries\n",
    "import numpy as np\n",
    "import matplotlib.pyplot as plt\n",
    "import math "
   ]
  },
  {
   "cell_type": "code",
   "execution_count": 2,
   "metadata": {},
   "outputs": [],
   "source": [
    "#input variables\n",
    "n = int(input(\"Numero de usuarios: \"))\n",
    "proConnect =  float(input(\"Probabilidad que se conecte un usuario: \"))\n",
    "proDisconnect =  float(input(\"Probabilidad que se desconecte un usuario: \"))"
   ]
  },
  {
   "cell_type": "code",
   "execution_count": 3,
   "metadata": {},
   "outputs": [],
   "source": [
    "#variables\n",
    "A = np.zeros((n,n)) #matriz de probabilidad"
   ]
  },
  {
   "cell_type": "code",
   "execution_count": 4,
   "metadata": {},
   "outputs": [],
   "source": [
    "#functions\n",
    "def combinatoria(n,x):\n",
    "    if x > n or x < 0:\n",
    "        return 0\n",
    "    else:\n",
    "        c = math.factorial(n)/ (math.factorial(x) * math.factorial(n-x ))\n",
    "        return c\n",
    " "
   ]
  },
  {
   "cell_type": "markdown",
   "metadata": {},
   "source": [
    "i hace referencia a la cantidad de usuarios conectados en ese momento\n",
    "conn hace referencia al numero de usuarios que se pueden conectar\n",
    "disc hace referencia al numero de usuarios que se pueden desconectar\n",
    "n numero de usuarios que usan el ordenador"
   ]
  },
  {
   "cell_type": "code",
   "execution_count": 5,
   "metadata": {},
   "outputs": [],
   "source": [
    "#code\n",
    "for i in range(n):\n",
    "    for j in range(n):\n",
    "        #si no hay ningun usuario conectado probabilidad que se conecten usuarios\n",
    "        if i == 0:\n",
    "            conn = j\n",
    "            A[i][j] = combinatoria(n,conn) * (proConnect ** conn) * ((1 - proConnect)**(n - conn))  \n",
    "\n",
    "        #si todos los usuarios estan conectados probabilidad de desconectar usuarios\n",
    "        elif i == n: \n",
    "            disc = i - j \n",
    "            A[i][j] = combinatoria(n, disc) * (proDisconnect ** disc) * ((1 - proDisconnect)**(n-disc)) \n",
    "        \n",
    "        #si el usuario actual se desconecta entra  uno nuevo o no hay ningun cambio\n",
    "        \n",
    "        \n",
    "        #no se desconecta ningun usuario y se conecta uno nuevo\n",
    "        else:\n",
    "            con = 1\n"
   ]
  },
  {
   "cell_type": "code",
   "execution_count": 15,
   "metadata": {},
   "outputs": [
    {
     "name": "stdout",
     "output_type": "stream",
     "text": [
      " Numero Usuarios:  3 \n",
      " Probabilidad de conexion:  0.6 \n",
      " Probabilidad de desconexion:  0.3\n",
      "suma:  0.784\n",
      "[[0.064 0.288 0.432]\n",
      " [0.    0.    0.   ]\n",
      " [0.    0.    0.   ]]\n"
     ]
    }
   ],
   "source": [
    "#graphics\n",
    "print(\" Numero Usuarios: \", n, \"\\n\",\n",
    "    \"Probabilidad de conexion: \", proConnect, \"\\n\",  \n",
    "    \"Probabilidad de desconexion: \", str(proDisconnect))\n",
    "\n",
    "suma = np.sum(A[0])\n",
    "    \n",
    "print(\"suma: \" , suma)\n",
    "print(A)"
   ]
  }
 ],
 "metadata": {
  "kernelspec": {
   "display_name": "Python 3",
   "language": "python",
   "name": "python3"
  },
  "language_info": {
   "codemirror_mode": {
    "name": "ipython",
    "version": 3
   },
   "file_extension": ".py",
   "mimetype": "text/x-python",
   "name": "python",
   "nbconvert_exporter": "python",
   "pygments_lexer": "ipython3",
   "version": "3.11.5"
  },
  "orig_nbformat": 4
 },
 "nbformat": 4,
 "nbformat_minor": 2
}
