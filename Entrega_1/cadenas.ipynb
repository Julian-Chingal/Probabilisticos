{
 "cells": [
  {
   "cell_type": "code",
<<<<<<< HEAD
   "execution_count": 22,
=======
   "execution_count": 1,
>>>>>>> 9563e6db812280c53704fd01f4e9dc35cc0969d7
   "metadata": {},
   "outputs": [],
   "source": [
    "#libraries\n",
    "import numpy as np\n",
    "import matplotlib.pyplot as plt\n",
    "import math "
   ]
  },
  {
   "cell_type": "code",
<<<<<<< HEAD
   "execution_count": 23,
=======
   "execution_count": 2,
>>>>>>> 9563e6db812280c53704fd01f4e9dc35cc0969d7
   "metadata": {},
   "outputs": [],
   "source": [
    "#input variables\n",
    "N = int(input(\"Numero de usuarios: \"))\n",
    "proConnect =  float(input(\"Probabilidad que se conecte un usuario: \"))\n",
    "proDisconnect =  float(input(\"Probabilidad que se desconecte un usuario: \"))"
   ]
  },
  {
   "cell_type": "code",
<<<<<<< HEAD
   "execution_count": 39,
=======
   "execution_count": 3,
>>>>>>> 9563e6db812280c53704fd01f4e9dc35cc0969d7
   "metadata": {},
   "outputs": [],
   "source": [
    "#variables\n",
    "P = np.zeros((N+1,N+1)) #matriz de probabilidad"
   ]
  },
  {
   "cell_type": "code",
<<<<<<< HEAD
   "execution_count": 38,
=======
   "execution_count": 4,
>>>>>>> 9563e6db812280c53704fd01f4e9dc35cc0969d7
   "metadata": {},
   "outputs": [],
   "source": [
    "#functions\n",
    "def combinatoria(n,x):\n",
    "    if x > n or x < 0:\n",
    "        return 0\n",
    "    else:\n",
    "        c = math.factorial(n)/ (math.factorial(x) * math.factorial(n-x ))\n",
    "        return c\n",
    "\n",
    "def binomial(n,x,p):\n",
    "    return combinatoria(n,x) *  (p ** x) * ((1 - p)**(n - x))"
   ]
  },
  {
   "cell_type": "markdown",
   "metadata": {},
   "source": [
    "# DATOS\n",
    "- i hace referencia a la cantidad de usuarios conectados en ese momento\n",
    "- conn hace referencia al numero de usuarios que se pueden conectar\n",
    "- disc hace referencia al numero de usuarios que se pueden desconectar\n",
    "- n numero de usuarios que usan el ordenador"
   ]
  },
  {
   "cell_type": "code",
<<<<<<< HEAD
   "execution_count": 40,
=======
   "execution_count": 5,
>>>>>>> 9563e6db812280c53704fd01f4e9dc35cc0969d7
   "metadata": {},
   "outputs": [],
   "source": [
    "#code\n",
<<<<<<< HEAD
    "for i in range(N+1):\n",
    "    for j in range(N+1):\n",
    "        #si no hay ningun usuario conectado probabilidad que se conecten usuarios\n",
=======
    "for i in range(n):\n",
    "    for j in range(n):\n",
    "        #si no hay ningun usuario conectado, probabilidad que se conecten usuarios\n",
>>>>>>> 9563e6db812280c53704fd01f4e9dc35cc0969d7
    "        if i == 0:\n",
    "            conn = j\n",
    "            P[i][j] = binomial(N, conn, proConnect)\n",
    "\n",
    "        #si todos los usuarios estan conectados probabilidad de desconectar usuarios\n",
    "        elif i == N: \n",
    "            disc = i - j \n",
    "            P[i][j] = binomial(N, disc, proDisconnect)\n",
    "        \n",
    "        #si el usuario actual se desconecta entra Y uno nuevo o no hay ningun cambio\n",
    "        elif i <= j:\n",
    "            probabilidad = 0\n",
    "            \n",
    "            while xconn <= nconn and xdisc <= ndisc:\n",
    "                probabilidad += (binomial(nconn, xconn, proConnect)) * (binomial(ndisc, xdisc, proDisconnect))\n",
    "                xconn += 1\n",
    "                xdisc += 1\n",
    "        \n",
    "        #conectan y desconectan usuarios\n",
    "        else:\n",
<<<<<<< HEAD
    "            nconn = N - i\n",
    "            ndisc = i\n",
    "            xdisc = i - j\n",
    "            xconn = 0\n",
    "            probabilidad = 0\n",
    "\n",
    "            while xconn <= nconn and xdisc <= ndisc:\n",
    "                probabilidad += (binomial(nconn, xconn, proConnect)) * (binomial(ndisc, xdisc, proDisconnect))\n",
    "                xconn += 1\n",
    "                xdisc += 1\n",
    "            \n",
    "            P[i][j] = probabilidad\n"
=======
    "            con = 1\n"
>>>>>>> 9563e6db812280c53704fd01f4e9dc35cc0969d7
   ]
  },
  {
   "cell_type": "code",
<<<<<<< HEAD
   "execution_count": 44,
=======
   "execution_count": 15,
>>>>>>> 9563e6db812280c53704fd01f4e9dc35cc0969d7
   "metadata": {},
   "outputs": [
    {
     "name": "stdout",
     "output_type": "stream",
     "text": [
<<<<<<< HEAD
      "3  **  0.4  **  0.3\n"
     ]
    },
    {
     "data": {
      "image/png": "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",
      "text/plain": [
       "<Figure size 640x480 with 1 Axes>"
      ]
     },
     "metadata": {},
     "output_type": "display_data"
    },
    {
     "name": "stdout",
     "output_type": "stream",
     "text": [
      "fila 1:  1.0\n",
      "fila 2:  0.108\n",
      "fila 3:  0.34199999999999997\n",
      "fila 4:  0.9999999999999998\n",
      "\n",
      "[[0.216 0.432 0.288 0.064]\n",
      " [0.108 0.    0.    0.   ]\n",
      " [0.054 0.288 0.    0.   ]\n",
      " [0.027 0.189 0.441 0.343]]\n",
      "1.0   1\n"
=======
      " Numero Usuarios:  3 \n",
      " Probabilidad de conexion:  0.6 \n",
      " Probabilidad de desconexion:  0.3\n",
      "suma:  0.784\n",
      "[[0.064 0.288 0.432]\n",
      " [0.    0.    0.   ]\n",
      " [0.    0.    0.   ]]\n"
>>>>>>> 9563e6db812280c53704fd01f4e9dc35cc0969d7
     ]
    }
   ],
   "source": [
    "#graphics\n",
<<<<<<< HEAD
    "print(N , \" ** \",proConnect, \" ** \",proDisconnect)\n",
=======
    "print(\" Numero Usuarios: \", n, \"\\n\",\n",
    "    \"Probabilidad de conexion: \", proConnect, \"\\n\",  \n",
    "    \"Probabilidad de desconexion: \", str(proDisconnect))\n",
>>>>>>> 9563e6db812280c53704fd01f4e9dc35cc0969d7
    "\n",
    "for k in range(N + 1 ):\n",
    "    plt.plot(np.sum(P[k:]))\n",
    "    \n",
<<<<<<< HEAD
    "plt.title(\"Sumatoria Filas\")\n",
    "plt.show()\n",
    "\n",
    "suma = np.sum(P[0])\n",
    "print(\"fila 1: \", suma)\n",
    "suma = np.sum(P[1])\n",
    "print(\"fila 2: \",suma)\n",
    "suma = np.sum(P[2])\n",
    "print(\"fila 3: \",suma)\n",
    "suma = np.sum(P[3])\n",
    "print(\"fila 4: \",suma)\n",
    "\n",
    "print()\n",
    "print(P)\n",
    "\n",
    "com = combinatoria(1,1)\n",
    "com2 = math.comb(1,1)\n",
    "\n",
    "print(com , \" \", com2)"
=======
    "print(\"suma: \" , suma)\n",
    "print(A)"
>>>>>>> 9563e6db812280c53704fd01f4e9dc35cc0969d7
   ]
  }
 ],
 "metadata": {
  "kernelspec": {
   "display_name": "Python 3",
   "language": "python",
   "name": "python3"
  },
  "language_info": {
   "codemirror_mode": {
    "name": "ipython",
    "version": 3
   },
   "file_extension": ".py",
   "mimetype": "text/x-python",
   "name": "python",
   "nbconvert_exporter": "python",
   "pygments_lexer": "ipython3",
   "version": "3.11.5"
  },
  "orig_nbformat": 4
 },
 "nbformat": 4,
 "nbformat_minor": 2
}
